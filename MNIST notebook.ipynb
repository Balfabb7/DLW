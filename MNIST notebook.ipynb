{
 "cells": [
  {
   "cell_type": "markdown",
   "metadata": {},
   "source": []
  },
  {
   "cell_type": "code",
   "execution_count": 1,
   "metadata": {},
   "outputs": [
    {
     "name": "stderr",
     "output_type": "stream",
     "text": [
      "C:\\Users\\Patrick\\Anaconda3\\lib\\site-packages\\h5py\\__init__.py:36: FutureWarning: Conversion of the second argument of issubdtype from `float` to `np.floating` is deprecated. In future, it will be treated as `np.float64 == np.dtype(float).type`.\n",
      "  from ._conv import register_converters as _register_converters\n",
      "Using TensorFlow backend.\n"
     ]
    },
    {
     "name": "stdout",
     "output_type": "stream",
     "text": [
      "train images shape: \n",
      "(60000, 28, 28)\n",
      "test images shape: \n",
      "(10000, 28, 28)\n"
     ]
    },
    {
     "data": {
      "text/plain": [
       "array([7, 2, 1, ..., 4, 5, 6], dtype=uint8)"
      ]
     },
     "execution_count": 1,
     "metadata": {},
     "output_type": "execute_result"
    }
   ],
   "source": [
    "from keras.datasets import mnist\n",
    "\n",
    "#we need this cause it will give us the data to use\n",
    "(train_images, train_labels), (test_images, test_labels) = mnist.load_data()\n",
    "\n",
    "\n",
    "print( 'train images shape: ' )\n",
    "print( train_images.shape ) \n",
    "len(train_labels)\n",
    "train_labels\n",
    "\n",
    "print( 'test images shape: ' )\n",
    "print( test_images.shape )\n",
    "len(test_labels)\n",
    "test_labels\n"
   ]
  },
  {
   "cell_type": "code",
   "execution_count": 2,
   "metadata": {},
   "outputs": [
    {
     "name": "stdout",
     "output_type": "stream",
     "text": [
      "Epoch 1/5\n",
      "60000/60000 [==============================] - 12s 200us/step - loss: 0.2584 - acc: 0.92585s - loss: 0.3489 -  - ETA: 5s -  - ETA: 3s - loss: 0.30\n",
      "Epoch 2/5\n",
      "60000/60000 [==============================] - 11s 184us/step - loss: 0.1048 - acc: 0.9683\n",
      "Epoch 3/5\n",
      "60000/60000 [==============================] - 10s 166us/step - loss: 0.0683 - acc: 0.9794\n",
      "Epoch 4/5\n",
      "60000/60000 [==============================] - 9s 151us/step - loss: 0.0503 - acc: 0.9852\n",
      "Epoch 5/5\n",
      "60000/60000 [==============================] - 9s 152us/step - loss: 0.0381 - acc: 0.9888\n",
      "10000/10000 [==============================] - 1s 106us/step\n",
      "test_acc: 0.9778\n"
     ]
    }
   ],
   "source": [
    "from keras import models\n",
    "from keras import layers\n",
    "from keras.utils import to_categorical\n",
    "\n",
    "#this is the network model\n",
    "network = models.Sequential()\n",
    "network.add(layers.Dense(512, activation='relu', input_shape= (28 * 28,)))\n",
    "network.add(layers.Dense(10, activation='softmax'))\n",
    "\n",
    "#this is the compilation step. The compile step consist of:\n",
    "#Loss function - how the network will measure its performance on training data.\n",
    "#Optimizer - mechanism which will update the network based on the data and loss function\n",
    "#Metrics - to look at during the training and testing. For this we will look at accuracy\n",
    "network.compile(optimizer = 'rmsprop', loss = 'categorical_crossentropy', metrics = ['accuracy'])\n",
    "\n",
    "#reshaping the data into the shape the network expects and scaling the values between [0,1]#\n",
    "#basically we are using an array of shape (60000, 28, 28) of datatype uint8 and shaping into\n",
    "#float32 array of shape (60000, 28*28) of scaled values between [0,1].\n",
    "train_images = train_images.reshape((60000, 28 * 28))\n",
    "train_images = train_images.astype('float32') / 255\n",
    "\n",
    "#also reshaping the data for the test datasets.\n",
    "test_images = test_images.reshape((10000, 28 * 28))\n",
    "test_images = test_images.astype('float32') / 255\n",
    "\n",
    "#this is going to categorically encode the labels for both train and test labels\n",
    "train_labels = to_categorical(train_labels)\n",
    "test_labels = to_categorical(test_labels)\n",
    "\n",
    "#we are calling the fit method to fit the model to training data\n",
    "#in other words this is the training portion\n",
    "network.fit(train_images, train_labels, epochs = 5, batch_size=128)\n",
    "\n",
    "#getting outputs at the end\n",
    "test_loss, test_acc = network.evaluate(test_images, test_labels)\n",
    "print('test_acc:', test_acc)"
   ]
  },
  {
   "cell_type": "code",
   "execution_count": null,
   "metadata": {},
   "outputs": [],
   "source": []
  }
 ],
 "metadata": {
  "kernelspec": {
   "display_name": "Python 3",
   "language": "python",
   "name": "python3"
  },
  "language_info": {
   "codemirror_mode": {
    "name": "ipython",
    "version": 3
   },
   "file_extension": ".py",
   "mimetype": "text/x-python",
   "name": "python",
   "nbconvert_exporter": "python",
   "pygments_lexer": "ipython3",
   "version": "3.6.5"
  }
 },
 "nbformat": 4,
 "nbformat_minor": 2
}
