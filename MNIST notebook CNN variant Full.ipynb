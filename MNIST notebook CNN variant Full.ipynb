{
 "cells": [
  {
   "cell_type": "markdown",
   "metadata": {},
   "source": [
    "#### Ensure that all libraries are installed "
   ]
  },
  {
   "cell_type": "code",
   "execution_count": 1,
   "metadata": {},
   "outputs": [
    {
     "name": "stderr",
     "output_type": "stream",
     "text": [
      "C:\\Users\\Patrick\\Anaconda3\\lib\\site-packages\\h5py\\__init__.py:36: FutureWarning: Conversion of the second argument of issubdtype from `float` to `np.floating` is deprecated. In future, it will be treated as `np.float64 == np.dtype(float).type`.\n",
      "  from ._conv import register_converters as _register_converters\n",
      "Using TensorFlow backend.\n"
     ]
    }
   ],
   "source": [
    "from keras.datasets import mnist\n",
    "from keras.utils import to_categorical\n",
    "from keras import layers\n",
    "from keras import models\n",
    "import matplotlib.pyplot as plt"
   ]
  },
  {
   "cell_type": "markdown",
   "metadata": {},
   "source": [
    "Load MNIST dataset from to the relevant datasets."
   ]
  },
  {
   "cell_type": "code",
   "execution_count": 9,
   "metadata": {},
   "outputs": [
    {
     "name": "stdout",
     "output_type": "stream",
     "text": [
      "\n",
      "train images shape: \n",
      "(60000, 28, 28)\n",
      "[5 0 4 ... 5 6 8]\n",
      "\n",
      "test images shape: \n",
      "(10000, 28, 28)\n",
      "[7 2 1 ... 4 5 6]\n",
      "\n"
     ]
    }
   ],
   "source": [
    "( train_images, train_labels ), ( test_images, test_labels ) = mnist.load_data()\n",
    "\n",
    "#outputting the shape of the data\n",
    "print( '' )\n",
    "print( 'train images shape: ' )\n",
    "print( train_images.shape )\n",
    "len( train_labels )\n",
    "print( train_labels )\n",
    "print( '' )\n",
    "\n",
    "print( 'test images shape: ' )\n",
    "print( test_images.shape )\n",
    "len( test_labels )\n",
    "print( test_labels )\n",
    "print( '' )"
   ]
  },
  {
   "cell_type": "markdown",
   "metadata": {},
   "source": [
    "Visualize a random image in the train dataset"
   ]
  },
  {
   "cell_type": "code",
   "execution_count": 10,
   "metadata": {},
   "outputs": [
    {
     "data": {
      "image/png": "[encoded data removed]",
      "text/plain": [
       "<Figure size 288x288 with 1 Axes>"
      ]
     },
     "metadata": {},
     "output_type": "display_data"
    }
   ],
   "source": [
    "plt.matshow( train_images[ 0 ], cmap = 'gray' )\n",
    "plt.show()"
   ]
  },
  {
   "cell_type": "code",
   "execution_count": 6,
   "metadata": {},
   "outputs": [
    {
     "name": "stdout",
     "output_type": "stream",
     "text": [
      "2\n"
     ]
    }
   ],
   "source": [
    "print( train_labels[ 5 ] )"
   ]
  },
  {
   "cell_type": "markdown",
   "metadata": {},
   "source": [
    "We start with reshaping the data for the convnet.\n",
    "\n",
    "notice we changed up the hyperparameters for this.\n",
    "Rather than using reshape: ( 60000, 28 * 28 ).\n",
    "We instead used: ( 60000, 28, 28, 1 ).\n",
    "\n",
    "This is because we need this format to fit the input shape of the model.\n",
    "\n",
    "Other than that we are still operating on the premise:\n",
    "\n",
    "1. shaping the data for the model.\n",
    "2. encoding the labels for both training and testing sets.\n",
    "3. compiling and training the model with training data.\n",
    "4. evaluating the model with the test data."
   ]
  },
  {
   "cell_type": "code",
   "execution_count": 11,
   "metadata": {},
   "outputs": [
    {
     "name": "stdout",
     "output_type": "stream",
     "text": [
      "(60000, 10)\n",
      "[0. 0. 1. 0. 0. 0. 0. 0. 0. 0.]\n"
     ]
    }
   ],
   "source": [
    "train_images = train_images.reshape( ( 60000, 28, 28, 1 ) )\n",
    "train_images = train_images.astype( 'float32' ) / 255\n",
    "test_images = test_images.reshape( ( 10000, 28, 28, 1 ) )\n",
    "test_images = test_images.astype( 'float32' ) / 255\n",
    "train_labels = to_categorical( train_labels )\n",
    "test_labels = to_categorical( test_labels )\n",
    "print( train_labels.shape )\n",
    "print( train_labels[ 5 ] )"
   ]
  },
  {
   "cell_type": "markdown",
   "metadata": {},
   "source": [
    "This is the convolutional network. While you could use just the Dense layers to achieve digit identification. You could gain even more accuracy if you use convolutional network. So the idea is to use a filter that will create localized values which will piece together to identify digits.\n",
    "\n",
    "So here we have a couple of functions from layers:\n",
    "\n",
    "Conv2D is the convolutional layer.\n",
    "Conv2D( filters, ( filter_height, filter_width ), ( activation ), ( input_shape ) )\n",
    "\n",
    "The filter will move through the image pixel by pixel ( or \"convolves\") around the image picking up values.\n",
    "This will create an output of: 26 x 26.\n",
    "\n",
    "MaxPooling2D( height, width )\n",
    "MaxPooling layer just takes the highest values from the Convolutional layer and puts it in height x width. \n",
    "It will use a filter of 2 x 2 moving around the 26 x 26 output with the purpose of taking the highest values from the 4 squares and create an output of 1 value each stride which because the filter is 2 x 2, the stride would also be 2. Note that MaxPooling will reduce the output to half.\n",
    "\n",
    "The last layer: model.add( layers.Dense( 10. activation = 'softmax' )\n",
    "\n",
    "So here we have 10 neurons which will associate, imagine digits between 0 and 9. Each neuron will contain values be between 0 - 1 and all of the values will sum to 1.\n",
    "\n",
    "So basically we have a probability for a digit prediction. The highest probability will be the model's prediction for the digit."
   ]
  },
  {
   "cell_type": "code",
   "execution_count": 12,
   "metadata": {},
   "outputs": [
    {
     "name": "stdout",
     "output_type": "stream",
     "text": [
      "_________________________________________________________________\n",
      "Layer (type)                 Output Shape              Param #   \n",
      "=================================================================\n",
      "conv2d_1 (Conv2D)            (None, 26, 26, 16)        160       \n",
      "_________________________________________________________________\n",
      "max_pooling2d_1 (MaxPooling2 (None, 13, 13, 16)        0         \n",
      "_________________________________________________________________\n",
      "conv2d_2 (Conv2D)            (None, 11, 11, 4)         580       \n",
      "_________________________________________________________________\n",
      "flatten_1 (Flatten)          (None, 484)               0         \n",
      "_________________________________________________________________\n",
      "dense_1 (Dense)              (None, 10)                4850      \n",
      "=================================================================\n",
      "Total params: 5,590\n",
      "Trainable params: 5,590\n",
      "Non-trainable params: 0\n",
      "_________________________________________________________________\n"
     ]
    }
   ],
   "source": [
    "model = models.Sequential()\n",
    "model.add( layers.Conv2D( 32, ( 3, 3 ), activation = 'relu', input_shape=( 28, 28, 1 ) ) )\n",
    "model.add( layers.MaxPooling2D( ( 2, 2 ) ) )\n",
    "model.add( layers.Conv2D( 64, ( 3 ,3 ), activation = 'relu' ) )\n",
    "model.add( layers.MaxPooling2D( ( 2, 2 ) ) )\n",
    "model.add( layers.Conv2D( 64, ( 3, 3 ), activation = 'relu' ) )\n",
    "model.add( layers.Flatten() )\n",
    "model.add( layers.Dense( 64, activation = 'relu' ) )\n",
    "model.add( layers.Dense( 10, activation = 'softmax' ) )\n",
    "model.summary()"
   ]
  },
  {
   "cell_type": "markdown",
   "metadata": {},
   "source": [
    "compiling and training the model\n",
    "\n",
    "The model will be trained with the fit function.\n",
    "\n",
    "RMSprop is root mean square propagation.\n",
    "\n",
    "categorical crossentropy for multi class classification.\n",
    "\n",
    "We load in the training images, training labels with 5 epochs. Normally batch size default is 32, here we are using 64."
   ]
  },
  {
   "cell_type": "code",
   "execution_count": 13,
   "metadata": {},
   "outputs": [
    {
     "name": "stdout",
     "output_type": "stream",
     "text": [
      "Epoch 1/4\n",
      "60000/60000 [==============================] - 33s 555us/step - loss: 0.3788 - acc: 0.8892\n",
      "Epoch 2/4\n",
      "60000/60000 [==============================] - 36s 598us/step - loss: 0.1439 - acc: 0.9580\n",
      "Epoch 3/4\n",
      "60000/60000 [==============================] - 38s 638us/step - loss: 0.1090 - acc: 0.9682\n",
      "Epoch 4/4\n",
      "60000/60000 [==============================] - 41s 681us/step - loss: 0.0934 - acc: 0.9726\n"
     ]
    },
    {
     "data": {
      "text/plain": [
       "<keras.callbacks.History at 0x227ff71bbe0>"
      ]
     },
     "execution_count": 13,
     "metadata": {},
     "output_type": "execute_result"
    }
   ],
   "source": [
    "model.compile( optimizer = 'rmsprop', loss = 'categorical_crossentropy', metrics = [ 'accuracy' ] )\n",
    "model.fit( train_images, train_labels, epochs = 5, batch_size = 64 )"
   ]
  },
  {
   "cell_type": "code",
   "execution_count": 14,
   "metadata": {},
   "outputs": [
    {
     "name": "stdout",
     "output_type": "stream",
     "text": [
      "10000/10000 [==============================] - 2s 243us/step\n",
      "test_acc: 0.9763\n"
     ]
    }
   ],
   "source": [
    "#evaluating the model with the test data now\n",
    "test_loss, test_acc = model.evaluate( test_images, test_labels )\n",
    "print( 'test_acc:', test_acc )"
   ]
  },
  {
   "cell_type": "markdown",
   "metadata": {},
   "source": [
    "We are visualzing the data for the test images. \n",
    "\n",
    "The test_images paramaters are different because we are calling a reshaped test_images, so the parameters have to match accordingly.\n",
    "\n",
    "Notice the test_labels is also reshaped. Rather than seeing a value of 0, we get an array of 10 in binary form."
   ]
  },
  {
   "cell_type": "code",
   "execution_count": 15,
   "metadata": {},
   "outputs": [
    {
     "data": {
      "image/png": "[encoded data removed]",
      "text/plain": [
       "<Figure size 288x288 with 1 Axes>"
      ]
     },
     "metadata": {},
     "output_type": "display_data"
    },
    {
     "name": "stdout",
     "output_type": "stream",
     "text": [
      "[0. 0. 0. 0. 0. 0. 0. 1. 0. 0.]\n"
     ]
    }
   ],
   "source": [
    "plt.matshow( test_images[ 0, :, :, 0 ], cmap = 'gray' )\n",
    "plt.show()\n",
    "print( test_labels[ 0 ] )"
   ]
  },
  {
   "cell_type": "markdown",
   "metadata": {},
   "source": [
    "Visualizing the predictions predictions on the unseen data\n",
    "This is going to show us how the model is predicting the images.\n",
    "\n",
    "The output is an array of values where each value is associated to a digit.\n",
    "\n",
    "If we summed up all the neurons we would get a sum of 1."
   ]
  },
  {
   "cell_type": "code",
   "execution_count": 16,
   "metadata": {},
   "outputs": [
    {
     "name": "stdout",
     "output_type": "stream",
     "text": [
      "[9.3754508e-08 2.1981594e-09 3.6539913e-07 1.4834933e-05 8.7365132e-12\n",
      " 3.8641147e-08 2.9599114e-16 9.9998152e-01 5.8638523e-08 3.0531103e-06]\n"
     ]
    }
   ],
   "source": [
    "predictions = model.predict( test_images )\n",
    "print( predictions[ 0 ] )"
   ]
  },
  {
   "cell_type": "markdown",
   "metadata": {},
   "source": [
    "After rounding we can see the output of the prediction. Here we see how the model predicts which digit which is in binary format of array 0 - 9. "
   ]
  },
  {
   "cell_type": "code",
   "execution_count": 18,
   "metadata": {},
   "outputs": [
    {
     "name": "stdout",
     "output_type": "stream",
     "text": [
      "[0. 0. 0. 0. 0. 0. 0. 1. 0. 0.]\n"
     ]
    }
   ],
   "source": [
    "print( predictions[ 0 ].round() )"
   ]
  },
  {
   "cell_type": "code",
   "execution_count": null,
   "metadata": {},
   "outputs": [],
   "source": []
  }
 ],
 "metadata": {
  "kernelspec": {
   "display_name": "Python 3",
   "language": "python",
   "name": "python3"
  },
  "language_info": {
   "codemirror_mode": {
    "name": "ipython",
    "version": 3
   },
   "file_extension": ".py",
   "mimetype": "text/x-python",
   "name": "python",
   "nbconvert_exporter": "python",
   "pygments_lexer": "ipython3",
   "version": "3.6.5"
  }
 },
 "nbformat": 4,
 "nbformat_minor": 2
}
